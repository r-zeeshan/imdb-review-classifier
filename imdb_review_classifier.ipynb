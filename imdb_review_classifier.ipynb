{
  "nbformat": 4,
  "nbformat_minor": 0,
  "metadata": {
    "colab": {
      "provenance": [],
      "authorship_tag": "ABX9TyPHio7OFWJTxwerw6yQdh5J",
      "include_colab_link": true
    },
    "kernelspec": {
      "name": "python3",
      "display_name": "Python 3"
    },
    "language_info": {
      "name": "python"
    },
    "accelerator": "GPU",
    "gpuClass": "standard"
  },
  "cells": [
    {
      "cell_type": "markdown",
      "metadata": {
        "id": "view-in-github",
        "colab_type": "text"
      },
      "source": [
        "<a href=\"https://colab.research.google.com/github/r-zeeshan/imdb-review-classifier/blob/main/imdb_review_classifier.ipynb\" target=\"_parent\"><img src=\"https://colab.research.google.com/assets/colab-badge.svg\" alt=\"Open In Colab\"/></a>"
      ]
    },
    {
      "cell_type": "code",
      "source": [
        "import tensorflow as tf\n",
        "import pandas as pd\n",
        "import numpy as np \n",
        "from sklearn.model_selection import train_test_split\n",
        "from tensorflow.keras.layers import TextVectorization, Embedding, Dense, Input, Conv1D, GlobalMaxPool1D, Dropout, MaxPool1D\n",
        "from sklearn.preprocessing import LabelEncoder"
      ],
      "metadata": {
        "id": "THP4BA_YaXHp"
      },
      "execution_count": 31,
      "outputs": []
    },
    {
      "cell_type": "code",
      "source": [
        "!wget --no-check-certificate \"https://docs.google.com/uc?export=download&id=1rxUd_7UpGz4WVGM1Bjb2uJ74ummZlfTy\" -O imdb.csv"
      ],
      "metadata": {
        "colab": {
          "base_uri": "https://localhost:8080/"
        },
        "id": "WLD6qiurajV8",
        "outputId": "1e544ec5-b7f1-4f79-cdff-e12c512a157a"
      },
      "execution_count": 2,
      "outputs": [
        {
          "output_type": "stream",
          "name": "stdout",
          "text": [
            "--2023-03-05 08:54:08--  https://docs.google.com/uc?export=download&id=1rxUd_7UpGz4WVGM1Bjb2uJ74ummZlfTy\n",
            "Resolving docs.google.com (docs.google.com)... 108.177.112.138, 108.177.112.113, 108.177.112.100, ...\n",
            "Connecting to docs.google.com (docs.google.com)|108.177.112.138|:443... connected.\n",
            "HTTP request sent, awaiting response... 303 See Other\n",
            "Location: https://doc-0k-7s-docs.googleusercontent.com/docs/securesc/ha0ro937gcuc7l7deffksulhg5h7mbp1/pffd8hstqnn7e4iekeii3fvdt8fpa508/1678006425000/14298511845850949288/*/1rxUd_7UpGz4WVGM1Bjb2uJ74ummZlfTy?e=download&uuid=65d83831-23fc-46c3-91fc-1c01705f2fc9 [following]\n",
            "Warning: wildcards not supported in HTTP.\n",
            "--2023-03-05 08:54:14--  https://doc-0k-7s-docs.googleusercontent.com/docs/securesc/ha0ro937gcuc7l7deffksulhg5h7mbp1/pffd8hstqnn7e4iekeii3fvdt8fpa508/1678006425000/14298511845850949288/*/1rxUd_7UpGz4WVGM1Bjb2uJ74ummZlfTy?e=download&uuid=65d83831-23fc-46c3-91fc-1c01705f2fc9\n",
            "Resolving doc-0k-7s-docs.googleusercontent.com (doc-0k-7s-docs.googleusercontent.com)... 209.85.147.132, 2607:f8b0:4001:c20::84\n",
            "Connecting to doc-0k-7s-docs.googleusercontent.com (doc-0k-7s-docs.googleusercontent.com)|209.85.147.132|:443... connected.\n",
            "HTTP request sent, awaiting response... 200 OK\n",
            "Length: 66212309 (63M) [text/csv]\n",
            "Saving to: ‘imdb.csv’\n",
            "\n",
            "imdb.csv            100%[===================>]  63.14M  87.9MB/s    in 0.7s    \n",
            "\n",
            "2023-03-05 08:54:15 (87.9 MB/s) - ‘imdb.csv’ saved [66212309/66212309]\n",
            "\n"
          ]
        }
      ]
    },
    {
      "cell_type": "code",
      "source": [
        "df = pd.read_csv(\"/content/imdb.csv\")\n",
        "df.head()"
      ],
      "metadata": {
        "colab": {
          "base_uri": "https://localhost:8080/",
          "height": 206
        },
        "id": "vA-q9f-pZDrM",
        "outputId": "d735243d-d8c5-4ffd-e45a-35e20d422730"
      },
      "execution_count": 3,
      "outputs": [
        {
          "output_type": "execute_result",
          "data": {
            "text/plain": [
              "                                              review sentiment\n",
              "0  One of the other reviewers has mentioned that ...  positive\n",
              "1  A wonderful little production. <br /><br />The...  positive\n",
              "2  I thought this was a wonderful way to spend ti...  positive\n",
              "3  Basically there's a family where a little boy ...  negative\n",
              "4  Petter Mattei's \"Love in the Time of Money\" is...  positive"
            ],
            "text/html": [
              "\n",
              "  <div id=\"df-000909e3-2a91-4b97-a4f0-a4826589c939\">\n",
              "    <div class=\"colab-df-container\">\n",
              "      <div>\n",
              "<style scoped>\n",
              "    .dataframe tbody tr th:only-of-type {\n",
              "        vertical-align: middle;\n",
              "    }\n",
              "\n",
              "    .dataframe tbody tr th {\n",
              "        vertical-align: top;\n",
              "    }\n",
              "\n",
              "    .dataframe thead th {\n",
              "        text-align: right;\n",
              "    }\n",
              "</style>\n",
              "<table border=\"1\" class=\"dataframe\">\n",
              "  <thead>\n",
              "    <tr style=\"text-align: right;\">\n",
              "      <th></th>\n",
              "      <th>review</th>\n",
              "      <th>sentiment</th>\n",
              "    </tr>\n",
              "  </thead>\n",
              "  <tbody>\n",
              "    <tr>\n",
              "      <th>0</th>\n",
              "      <td>One of the other reviewers has mentioned that ...</td>\n",
              "      <td>positive</td>\n",
              "    </tr>\n",
              "    <tr>\n",
              "      <th>1</th>\n",
              "      <td>A wonderful little production. &lt;br /&gt;&lt;br /&gt;The...</td>\n",
              "      <td>positive</td>\n",
              "    </tr>\n",
              "    <tr>\n",
              "      <th>2</th>\n",
              "      <td>I thought this was a wonderful way to spend ti...</td>\n",
              "      <td>positive</td>\n",
              "    </tr>\n",
              "    <tr>\n",
              "      <th>3</th>\n",
              "      <td>Basically there's a family where a little boy ...</td>\n",
              "      <td>negative</td>\n",
              "    </tr>\n",
              "    <tr>\n",
              "      <th>4</th>\n",
              "      <td>Petter Mattei's \"Love in the Time of Money\" is...</td>\n",
              "      <td>positive</td>\n",
              "    </tr>\n",
              "  </tbody>\n",
              "</table>\n",
              "</div>\n",
              "      <button class=\"colab-df-convert\" onclick=\"convertToInteractive('df-000909e3-2a91-4b97-a4f0-a4826589c939')\"\n",
              "              title=\"Convert this dataframe to an interactive table.\"\n",
              "              style=\"display:none;\">\n",
              "        \n",
              "  <svg xmlns=\"http://www.w3.org/2000/svg\" height=\"24px\"viewBox=\"0 0 24 24\"\n",
              "       width=\"24px\">\n",
              "    <path d=\"M0 0h24v24H0V0z\" fill=\"none\"/>\n",
              "    <path d=\"M18.56 5.44l.94 2.06.94-2.06 2.06-.94-2.06-.94-.94-2.06-.94 2.06-2.06.94zm-11 1L8.5 8.5l.94-2.06 2.06-.94-2.06-.94L8.5 2.5l-.94 2.06-2.06.94zm10 10l.94 2.06.94-2.06 2.06-.94-2.06-.94-.94-2.06-.94 2.06-2.06.94z\"/><path d=\"M17.41 7.96l-1.37-1.37c-.4-.4-.92-.59-1.43-.59-.52 0-1.04.2-1.43.59L10.3 9.45l-7.72 7.72c-.78.78-.78 2.05 0 2.83L4 21.41c.39.39.9.59 1.41.59.51 0 1.02-.2 1.41-.59l7.78-7.78 2.81-2.81c.8-.78.8-2.07 0-2.86zM5.41 20L4 18.59l7.72-7.72 1.47 1.35L5.41 20z\"/>\n",
              "  </svg>\n",
              "      </button>\n",
              "      \n",
              "  <style>\n",
              "    .colab-df-container {\n",
              "      display:flex;\n",
              "      flex-wrap:wrap;\n",
              "      gap: 12px;\n",
              "    }\n",
              "\n",
              "    .colab-df-convert {\n",
              "      background-color: #E8F0FE;\n",
              "      border: none;\n",
              "      border-radius: 50%;\n",
              "      cursor: pointer;\n",
              "      display: none;\n",
              "      fill: #1967D2;\n",
              "      height: 32px;\n",
              "      padding: 0 0 0 0;\n",
              "      width: 32px;\n",
              "    }\n",
              "\n",
              "    .colab-df-convert:hover {\n",
              "      background-color: #E2EBFA;\n",
              "      box-shadow: 0px 1px 2px rgba(60, 64, 67, 0.3), 0px 1px 3px 1px rgba(60, 64, 67, 0.15);\n",
              "      fill: #174EA6;\n",
              "    }\n",
              "\n",
              "    [theme=dark] .colab-df-convert {\n",
              "      background-color: #3B4455;\n",
              "      fill: #D2E3FC;\n",
              "    }\n",
              "\n",
              "    [theme=dark] .colab-df-convert:hover {\n",
              "      background-color: #434B5C;\n",
              "      box-shadow: 0px 1px 3px 1px rgba(0, 0, 0, 0.15);\n",
              "      filter: drop-shadow(0px 1px 2px rgba(0, 0, 0, 0.3));\n",
              "      fill: #FFFFFF;\n",
              "    }\n",
              "  </style>\n",
              "\n",
              "      <script>\n",
              "        const buttonEl =\n",
              "          document.querySelector('#df-000909e3-2a91-4b97-a4f0-a4826589c939 button.colab-df-convert');\n",
              "        buttonEl.style.display =\n",
              "          google.colab.kernel.accessAllowed ? 'block' : 'none';\n",
              "\n",
              "        async function convertToInteractive(key) {\n",
              "          const element = document.querySelector('#df-000909e3-2a91-4b97-a4f0-a4826589c939');\n",
              "          const dataTable =\n",
              "            await google.colab.kernel.invokeFunction('convertToInteractive',\n",
              "                                                     [key], {});\n",
              "          if (!dataTable) return;\n",
              "\n",
              "          const docLinkHtml = 'Like what you see? Visit the ' +\n",
              "            '<a target=\"_blank\" href=https://colab.research.google.com/notebooks/data_table.ipynb>data table notebook</a>'\n",
              "            + ' to learn more about interactive tables.';\n",
              "          element.innerHTML = '';\n",
              "          dataTable['output_type'] = 'display_data';\n",
              "          await google.colab.output.renderOutput(dataTable, element);\n",
              "          const docLink = document.createElement('div');\n",
              "          docLink.innerHTML = docLinkHtml;\n",
              "          element.appendChild(docLink);\n",
              "        }\n",
              "      </script>\n",
              "    </div>\n",
              "  </div>\n",
              "  "
            ]
          },
          "metadata": {},
          "execution_count": 3
        }
      ]
    },
    {
      "cell_type": "code",
      "source": [
        "label_encoder = LabelEncoder()\n",
        "df[\"sentiment\"] = label_encoder.fit_transform(df[\"sentiment\"])"
      ],
      "metadata": {
        "id": "kiFcGVFleXLB"
      },
      "execution_count": 4,
      "outputs": []
    },
    {
      "cell_type": "code",
      "source": [
        "df[\"sentiment\"].value_counts()"
      ],
      "metadata": {
        "colab": {
          "base_uri": "https://localhost:8080/"
        },
        "id": "DXHcyctSdHGX",
        "outputId": "3521b972-6894-46ec-eaa9-309897b0cbc6"
      },
      "execution_count": 5,
      "outputs": [
        {
          "output_type": "execute_result",
          "data": {
            "text/plain": [
              "1    25000\n",
              "0    25000\n",
              "Name: sentiment, dtype: int64"
            ]
          },
          "metadata": {},
          "execution_count": 5
        }
      ]
    },
    {
      "cell_type": "code",
      "source": [
        "label_encoder.classes_"
      ],
      "metadata": {
        "colab": {
          "base_uri": "https://localhost:8080/"
        },
        "id": "eW6cNLxfez10",
        "outputId": "bb238c30-12f2-444b-8e2f-9632d67f5e4b"
      },
      "execution_count": 6,
      "outputs": [
        {
          "output_type": "execute_result",
          "data": {
            "text/plain": [
              "array(['negative', 'positive'], dtype=object)"
            ]
          },
          "metadata": {},
          "execution_count": 6
        }
      ]
    },
    {
      "cell_type": "code",
      "source": [
        "data_sentences = df[\"review\"].to_list()\n",
        "data_labels = df[\"sentiment\"].to_list()"
      ],
      "metadata": {
        "id": "Z991fwlKfWRl"
      },
      "execution_count": 7,
      "outputs": []
    },
    {
      "cell_type": "code",
      "source": [
        "train_sentences, X_test, train_labels, y_test = train_test_split(data_sentences, data_labels, test_size = 0.3)"
      ],
      "metadata": {
        "id": "XqwQIyjjfWOs"
      },
      "execution_count": 8,
      "outputs": []
    },
    {
      "cell_type": "code",
      "source": [
        "test_sentences, val_sentences, test_labels, val_labels = train_test_split(X_test, y_test, test_size = 0.5)"
      ],
      "metadata": {
        "id": "Hz0wSDQXgiUL"
      },
      "execution_count": 9,
      "outputs": []
    },
    {
      "cell_type": "code",
      "source": [
        "len(train_sentences), len(test_sentences), len(val_sentences)"
      ],
      "metadata": {
        "colab": {
          "base_uri": "https://localhost:8080/"
        },
        "id": "GyxJIqcsgzSh",
        "outputId": "006f3df7-62e3-4a76-f369-0778878743ad"
      },
      "execution_count": 10,
      "outputs": [
        {
          "output_type": "execute_result",
          "data": {
            "text/plain": [
              "(35000, 7500, 7500)"
            ]
          },
          "metadata": {},
          "execution_count": 10
        }
      ]
    },
    {
      "cell_type": "code",
      "source": [
        "# Calculate the average sentence length\n",
        "sent_lens = [len(sentence.split()) for sentence in train_sentences]\n",
        "avg_sent_len = np.mean(sent_lens)\n",
        "output_seq_len = int(np.percentile(sent_lens, 98))\n",
        "output_seq_len"
      ],
      "metadata": {
        "colab": {
          "base_uri": "https://localhost:8080/"
        },
        "id": "c7MlBC5bz1zj",
        "outputId": "0cdd2624-5d17-4e09-e225-79729d268065"
      },
      "execution_count": 11,
      "outputs": [
        {
          "output_type": "execute_result",
          "data": {
            "text/plain": [
              "778"
            ]
          },
          "metadata": {},
          "execution_count": 11
        }
      ]
    },
    {
      "cell_type": "code",
      "source": [
        "vocab_size = 49600 # From Kaggle Dataset page"
      ],
      "metadata": {
        "id": "OJn48J7e1Aoc"
      },
      "execution_count": 12,
      "outputs": []
    },
    {
      "cell_type": "code",
      "source": [
        "# Creating fast loading dataset with tf.data api\n",
        "\n",
        "train_dataset = tf.data.Dataset.from_tensor_slices((train_sentences, train_labels)).batch(128).prefetch(tf.data.AUTOTUNE)\n",
        "test_dataset = tf.data.Dataset.from_tensor_slices((test_sentences, test_labels)).batch(128).prefetch(tf.data.AUTOTUNE)\n",
        "val_dataset = tf.data.Dataset.from_tensor_slices((val_sentences, val_labels)).batch(128).prefetch(tf.data.AUTOTUNE)"
      ],
      "metadata": {
        "id": "HWbLFZA2hzYl"
      },
      "execution_count": 13,
      "outputs": []
    },
    {
      "cell_type": "code",
      "source": [
        "# Creating a custom text vectorizer layer using tf.keras.layers.TextVectorizer\n",
        "text_vectorizer = TextVectorization(max_tokens = vocab_size, output_mode = \"int\", output_sequence_length=output_seq_len)\n",
        "text_vectorizer.adapt(train_sentences)"
      ],
      "metadata": {
        "id": "WNsqW1k1zMVS"
      },
      "execution_count": 14,
      "outputs": []
    },
    {
      "cell_type": "code",
      "source": [
        "text_vocab = text_vectorizer.get_vocabulary()\n",
        "print(f\"No. of words in vocab: {len(text_vocab)}\")\n",
        "print(f\"Most common words in vocab: {text_vocab[:5]}\")\n",
        "print(f\"Least common words in data: {text_vocab[-5:]}\")"
      ],
      "metadata": {
        "colab": {
          "base_uri": "https://localhost:8080/"
        },
        "id": "d0EbGYwezXN8",
        "outputId": "e62271d4-4b95-4496-92c8-5b5c7d9a8aef"
      },
      "execution_count": 15,
      "outputs": [
        {
          "output_type": "stream",
          "name": "stdout",
          "text": [
            "No. of words in vocab: 49600\n",
            "Most common words in vocab: ['', '[UNK]', 'the', 'a', 'and']\n",
            "Least common words in data: ['emotionalbr', 'emorys', 'emmerson', 'emits', 'emit']\n"
          ]
        }
      ]
    },
    {
      "cell_type": "code",
      "source": [
        "# Creating a custom text embedding layer using tf.keras.layers.Embedding\n",
        "text_embedding = Embedding(input_dim = len(text_vocab),\n",
        "                           output_dim = 512,\n",
        "                           mask_zero=True,\n",
        "                           name=\"text_embedding\")"
      ],
      "metadata": {
        "id": "xjaMhiAY7e8d"
      },
      "execution_count": 16,
      "outputs": []
    },
    {
      "cell_type": "code",
      "source": [
        "# Creating the final model\n",
        "token_input = Input(shape=(1,), dtype=tf.string)\n",
        "x = text_vectorizer(token_input)\n",
        "x = text_embedding(x)\n",
        "x = Conv1D(128, kernel_size=12, padding=\"same\", activation=\"relu\")(x)\n",
        "x = MaxPool1D()(x)\n",
        "x = Conv1D(128, kernel_size=12, padding=\"same\", activation=\"relu\")(x)\n",
        "x = GlobalMaxPool1D()(x)\n",
        "output = Dense(1, activation=\"sigmoid\")(x)\n",
        "\n",
        "\n",
        "model = tf.keras.Model(inputs = token_input,\n",
        "                       outputs = output)"
      ],
      "metadata": {
        "id": "SRjIDve379-b"
      },
      "execution_count": 32,
      "outputs": []
    },
    {
      "cell_type": "code",
      "source": [
        "model.compile(loss=\"binary_crossentropy\",\n",
        "              optimizer=tf.keras.optimizers.Adam(),\n",
        "              metrics=[\"accuracy\"])"
      ],
      "metadata": {
        "id": "wblnO_Iv952Y"
      },
      "execution_count": 33,
      "outputs": []
    },
    {
      "cell_type": "code",
      "source": [
        "# Setup EarlyStopping callback to stop training if model's val_loss doesn't improve for 3 epochs\n",
        "early_stopping = tf.keras.callbacks.EarlyStopping(monitor=\"val_loss\", # watch the val loss metric\n",
        "                                                  patience=3) # if val loss decreases for 3 epochs in a row, stop training\n",
        "\n",
        "# Creating learning rate reduction callback\n",
        "reduce_lr = tf.keras.callbacks.ReduceLROnPlateau(monitor=\"val_loss\",  \n",
        "                                                 factor=0.2, # multiply the learning rate by 0.2 (reduce by 5x)\n",
        "                                                 patience=2,\n",
        "                                                 verbose=1, # print out when learning rate goes down \n",
        "                                                 min_lr=1e-7)"
      ],
      "metadata": {
        "id": "9MJVo68FkeP4"
      },
      "execution_count": 34,
      "outputs": []
    },
    {
      "cell_type": "code",
      "source": [
        "history = model.fit(train_dataset,\n",
        "                    epochs=50,\n",
        "                    validation_data= val_dataset,\n",
        "                    callbacks=[early_stopping, reduce_lr])"
      ],
      "metadata": {
        "colab": {
          "base_uri": "https://localhost:8080/"
        },
        "id": "4BzNbOqw-N7y",
        "outputId": "15a2dac7-91e1-4055-8179-222888c82c72"
      },
      "execution_count": 35,
      "outputs": [
        {
          "output_type": "stream",
          "name": "stdout",
          "text": [
            "Epoch 1/50\n",
            "274/274 [==============================] - 45s 159ms/step - loss: 0.0396 - accuracy: 0.9859 - val_loss: 0.8995 - val_accuracy: 0.8472 - lr: 0.0010\n",
            "Epoch 2/50\n",
            "274/274 [==============================] - 40s 147ms/step - loss: 0.0292 - accuracy: 0.9908 - val_loss: 0.8149 - val_accuracy: 0.8637 - lr: 0.0010\n",
            "Epoch 3/50\n",
            "274/274 [==============================] - 40s 145ms/step - loss: 0.0285 - accuracy: 0.9911 - val_loss: 0.8464 - val_accuracy: 0.8643 - lr: 0.0010\n",
            "Epoch 4/50\n",
            "274/274 [==============================] - ETA: 0s - loss: 0.0078 - accuracy: 0.9976\n",
            "Epoch 4: ReduceLROnPlateau reducing learning rate to 0.00020000000949949026.\n",
            "274/274 [==============================] - 41s 149ms/step - loss: 0.0078 - accuracy: 0.9976 - val_loss: 0.9908 - val_accuracy: 0.8647 - lr: 0.0010\n",
            "Epoch 5/50\n",
            "274/274 [==============================] - 41s 148ms/step - loss: 8.9276e-04 - accuracy: 0.9997 - val_loss: 0.9733 - val_accuracy: 0.8680 - lr: 2.0000e-04\n"
          ]
        }
      ]
    },
    {
      "cell_type": "code",
      "source": [
        "model.evaluate(test_dataset)"
      ],
      "metadata": {
        "colab": {
          "base_uri": "https://localhost:8080/"
        },
        "id": "qWSBdrh3RMm4",
        "outputId": "a73e4994-0176-4b4e-abca-d432bf495ac3"
      },
      "execution_count": 36,
      "outputs": [
        {
          "output_type": "stream",
          "name": "stdout",
          "text": [
            "59/59 [==============================] - 2s 32ms/step - loss: 0.9732 - accuracy: 0.8704\n"
          ]
        },
        {
          "output_type": "execute_result",
          "data": {
            "text/plain": [
              "[0.9731510877609253, 0.8704000115394592]"
            ]
          },
          "metadata": {},
          "execution_count": 36
        }
      ]
    },
    {
      "cell_type": "code",
      "source": [
        "test_sentence = \"\"\"\n",
        "                I wish I had enjoyed it, given the Tim Burton credential, and my moviegoer love for this director and his nightmarish visions and lovable weird characters. But this is no Tim Burton per se creation, it is a Netflix series, Netflix flows in its veins from the start, from the trailer and the \"Paint it Black\" cover (which somehow sounds like the cover of the Westworld cover), and the buzz around it. I was expecting \"Wednesday\" but watching it was like a cold shower, going back to reality, Netflix reality that is : pleasing the majority of its users, transforming the Addams girl into an obnoxious teen in school with her peers, obnoxious teens. Then there was no point in the Addams pariah basis. And no point in keeping watching the series.\n",
        "                \"\"\""
      ],
      "metadata": {
        "id": "9x2yF5atTF70"
      },
      "execution_count": 54,
      "outputs": []
    },
    {
      "cell_type": "code",
      "source": [
        "def make_preds(model, sentence, label_encoder):\n",
        "\n",
        "    pred = int(model.predict([sentence])[0])\n",
        "\n",
        "    return label_encoder.inverse_transform([pred])[0]\n"
      ],
      "metadata": {
        "id": "5DdmEXeyDhQA"
      },
      "execution_count": 52,
      "outputs": []
    },
    {
      "cell_type": "code",
      "source": [
        "make_preds(model, test_sentence, label_encoder)"
      ],
      "metadata": {
        "colab": {
          "base_uri": "https://localhost:8080/",
          "height": 53
        },
        "id": "vmbRxHnuEdva",
        "outputId": "d8897731-6c47-47ae-f13a-54de826b8738"
      },
      "execution_count": 55,
      "outputs": [
        {
          "output_type": "stream",
          "name": "stdout",
          "text": [
            "1/1 [==============================] - 0s 74ms/step\n"
          ]
        },
        {
          "output_type": "execute_result",
          "data": {
            "text/plain": [
              "'negative'"
            ],
            "application/vnd.google.colaboratory.intrinsic+json": {
              "type": "string"
            }
          },
          "metadata": {},
          "execution_count": 55
        }
      ]
    },
    {
      "cell_type": "code",
      "source": [],
      "metadata": {
        "id": "4XY4nC5REiWD"
      },
      "execution_count": null,
      "outputs": []
    }
  ]
}